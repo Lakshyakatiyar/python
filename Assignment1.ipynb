{
 "cells": [
  {
   "cell_type": "code",
   "execution_count": 2,
   "id": "e9ffe70e-d93f-479f-b18a-899e99d81969",
   "metadata": {},
   "outputs": [
    {
     "name": "stdout",
     "output_type": "stream",
     "text": [
      "datascience\n"
     ]
    }
   ],
   "source": [
    "print(name)"
   ]
  },
  {
   "cell_type": "code",
   "execution_count": 3,
   "id": "ed45dd6f-f338-4b4b-b60c-60ac45b25ae3",
   "metadata": {},
   "outputs": [],
   "source": [
    "l1=[10,\"machine\",236.5,\"deeplearning\"]"
   ]
  },
  {
   "cell_type": "code",
   "execution_count": 4,
   "id": "efe1471c-c474-4352-a7dd-23e7bd9e1868",
   "metadata": {},
   "outputs": [
    {
     "name": "stdout",
     "output_type": "stream",
     "text": [
      "[10, 'machine', 236.5, 'deeplearning']\n"
     ]
    }
   ],
   "source": [
    "print(l1)"
   ]
  },
  {
   "cell_type": "code",
   "execution_count": 5,
   "id": "c1529814-7192-4f3a-9dcc-6256b0dede60",
   "metadata": {},
   "outputs": [],
   "source": [
    "number=231.65"
   ]
  },
  {
   "cell_type": "code",
   "execution_count": 6,
   "id": "7bccdd62-480b-480e-8f3c-9249d691505d",
   "metadata": {},
   "outputs": [
    {
     "name": "stdout",
     "output_type": "stream",
     "text": [
      "231.65\n"
     ]
    }
   ],
   "source": [
    "print(number)"
   ]
  },
  {
   "cell_type": "code",
   "execution_count": 7,
   "id": "69513a1e-45fe-4f1e-8ea1-1f8c99ddbabd",
   "metadata": {},
   "outputs": [
    {
     "name": "stdout",
     "output_type": "stream",
     "text": [
      "('lakshya', 'apple', 'algorithms')\n"
     ]
    }
   ],
   "source": [
    "mytuple=(\"lakshya\",\"apple\",\"algorithms\")\n",
    "print(mytuple)"
   ]
  },
  {
   "cell_type": "code",
   "execution_count": null,
   "id": "0abd625b-75d0-4291-92ad-9628174c8e58",
   "metadata": {},
   "outputs": [],
   "source": [
    "# question2"
   ]
  },
  {
   "cell_type": "code",
   "execution_count": 8,
   "id": "1ccbacdc-85ca-463f-8755-7682bc84e2a6",
   "metadata": {},
   "outputs": [],
   "source": [
    "var1=''"
   ]
  },
  {
   "cell_type": "code",
   "execution_count": 9,
   "id": "7ea9defb-4931-40aa-bfde-80fc769e4ca4",
   "metadata": {},
   "outputs": [
    {
     "name": "stdout",
     "output_type": "stream",
     "text": [
      "<class 'str'>\n"
     ]
    }
   ],
   "source": [
    "print(type(var1))"
   ]
  },
  {
   "cell_type": "code",
   "execution_count": 10,
   "id": "db50f1c7-8d6c-45ab-bcb9-1295bbf1b748",
   "metadata": {},
   "outputs": [],
   "source": [
    "var2='[DS,ML,Python]'"
   ]
  },
  {
   "cell_type": "code",
   "execution_count": 11,
   "id": "0c83f725-a0ae-47ae-9ca3-8a0b5ba5079e",
   "metadata": {},
   "outputs": [
    {
     "name": "stdout",
     "output_type": "stream",
     "text": [
      "<class 'str'>\n"
     ]
    }
   ],
   "source": [
    "print(type(var2))"
   ]
  },
  {
   "cell_type": "code",
   "execution_count": 12,
   "id": "39333906-640b-4d1b-8bc0-773f9688d872",
   "metadata": {},
   "outputs": [],
   "source": [
    "var3=['DS','ML','Python']"
   ]
  },
  {
   "cell_type": "code",
   "execution_count": 13,
   "id": "32793e5b-a63c-4b9a-a3ce-57a502e6c47b",
   "metadata": {},
   "outputs": [
    {
     "name": "stdout",
     "output_type": "stream",
     "text": [
      "<class 'list'>\n"
     ]
    }
   ],
   "source": [
    "print(type(var3))"
   ]
  },
  {
   "cell_type": "code",
   "execution_count": 14,
   "id": "70b87a70-7af8-4bdf-8c4b-c4677f395beb",
   "metadata": {},
   "outputs": [],
   "source": [
    "var4=1"
   ]
  },
  {
   "cell_type": "code",
   "execution_count": 15,
   "id": "f073f8da-3ce2-4ff8-80b4-6b373917bcb5",
   "metadata": {},
   "outputs": [
    {
     "name": "stdout",
     "output_type": "stream",
     "text": [
      "<class 'int'>\n"
     ]
    }
   ],
   "source": [
    "print(type(var4))"
   ]
  },
  {
   "cell_type": "code",
   "execution_count": null,
   "id": "0ae8f050-0168-46a7-83c4-f9f823c6ba9a",
   "metadata": {},
   "outputs": [],
   "source": [
    "# question3"
   ]
  },
  {
   "cell_type": "code",
   "execution_count": 16,
   "id": "7b5a87c6-0c6d-4f7f-8300-48d9543345a6",
   "metadata": {},
   "outputs": [],
   "source": [
    "# (**) is defined as raise to the power operator.for eg-"
   ]
  },
  {
   "cell_type": "code",
   "execution_count": 17,
   "id": "8631c339-9a14-4cb1-bd98-615fef1bc8ff",
   "metadata": {},
   "outputs": [],
   "source": [
    "inta =3"
   ]
  },
  {
   "cell_type": "code",
   "execution_count": 18,
   "id": "600f7b7b-cf28-4802-9d08-23f2b8423235",
   "metadata": {},
   "outputs": [],
   "source": [
    "intb =4"
   ]
  },
  {
   "cell_type": "code",
   "execution_count": 19,
   "id": "76e86ff2-54b4-411d-8137-3a61d401c733",
   "metadata": {},
   "outputs": [],
   "source": [
    "c=3**4"
   ]
  },
  {
   "cell_type": "code",
   "execution_count": 20,
   "id": "e181943a-353b-4e76-b5fe-8a9a8afeb5f1",
   "metadata": {},
   "outputs": [
    {
     "name": "stdout",
     "output_type": "stream",
     "text": [
      "81\n"
     ]
    }
   ],
   "source": [
    "print(c)"
   ]
  },
  {
   "cell_type": "code",
   "execution_count": 21,
   "id": "6cc64b95-dae9-424d-9913-dea1d14d2ba0",
   "metadata": {},
   "outputs": [],
   "source": [
    "# (%) is defined as the remainder operator for eg-"
   ]
  },
  {
   "cell_type": "code",
   "execution_count": 22,
   "id": "d7a65823-ffad-4b2d-ad13-f88fa9757b0b",
   "metadata": {},
   "outputs": [],
   "source": [
    "inta =34"
   ]
  },
  {
   "cell_type": "code",
   "execution_count": 23,
   "id": "9e01ddb6-ef09-4ab7-9f46-c57469055c9f",
   "metadata": {},
   "outputs": [],
   "source": [
    "intb =6"
   ]
  },
  {
   "cell_type": "code",
   "execution_count": 24,
   "id": "e23e7991-b7d1-412c-874f-6ecac72e493d",
   "metadata": {},
   "outputs": [],
   "source": [
    "c=34%6"
   ]
  },
  {
   "cell_type": "code",
   "execution_count": 25,
   "id": "d9216e9e-f996-41c5-9a4a-da531f80ad3a",
   "metadata": {},
   "outputs": [
    {
     "name": "stdout",
     "output_type": "stream",
     "text": [
      "4\n"
     ]
    }
   ],
   "source": [
    "print(c)"
   ]
  },
  {
   "cell_type": "code",
   "execution_count": 26,
   "id": "a8be760e-c82d-4768-bdac-be653edfe14d",
   "metadata": {},
   "outputs": [],
   "source": [
    "# (/) operator is used to print quotient in flaot value"
   ]
  },
  {
   "cell_type": "code",
   "execution_count": 27,
   "id": "4ca9bd88-29a4-4b1c-b17e-a62cfd0c165d",
   "metadata": {},
   "outputs": [],
   "source": [
    "inta =65"
   ]
  },
  {
   "cell_type": "code",
   "execution_count": 28,
   "id": "cf67c222-0d1b-4bb9-bd4b-4d44de3bc065",
   "metadata": {},
   "outputs": [],
   "source": [
    "intb =8"
   ]
  },
  {
   "cell_type": "code",
   "execution_count": 29,
   "id": "30e8b663-9e85-49e6-8501-bc39d9891fc1",
   "metadata": {},
   "outputs": [],
   "source": [
    "c=65/8"
   ]
  },
  {
   "cell_type": "code",
   "execution_count": 30,
   "id": "4d92e340-84b9-4783-bdf5-243d9629fcb4",
   "metadata": {},
   "outputs": [
    {
     "name": "stdout",
     "output_type": "stream",
     "text": [
      "8.125\n"
     ]
    }
   ],
   "source": [
    "print(c)"
   ]
  },
  {
   "cell_type": "code",
   "execution_count": 31,
   "id": "41948df7-a979-47c3-92fe-5a6d363449bd",
   "metadata": {},
   "outputs": [],
   "source": [
    "# (//) operator is used to print quotient discarding dcimal values"
   ]
  },
  {
   "cell_type": "code",
   "execution_count": 32,
   "id": "e0924fe9-7483-489e-9cbc-eb8b6c28568f",
   "metadata": {},
   "outputs": [],
   "source": [
    "inta =66"
   ]
  },
  {
   "cell_type": "code",
   "execution_count": 33,
   "id": "b016a07b-73da-4db0-901b-06fc4631b50b",
   "metadata": {},
   "outputs": [],
   "source": [
    "intb =9"
   ]
  },
  {
   "cell_type": "code",
   "execution_count": 34,
   "id": "0856a732-9cc6-474e-a13c-a474ca8cd9ce",
   "metadata": {},
   "outputs": [],
   "source": [
    "c=66//9"
   ]
  },
  {
   "cell_type": "code",
   "execution_count": 35,
   "id": "a058edfb-5d61-47c0-ae6e-7a0ebe3494ff",
   "metadata": {},
   "outputs": [
    {
     "name": "stdout",
     "output_type": "stream",
     "text": [
      "7\n"
     ]
    }
   ],
   "source": [
    "print(c)"
   ]
  },
  {
   "cell_type": "code",
   "execution_count": null,
   "id": "4d7ab595-3d7b-4105-8bcd-7d8fcb2ea784",
   "metadata": {},
   "outputs": [],
   "source": [
    "# question5"
   ]
  },
  {
   "cell_type": "code",
   "execution_count": 3,
   "id": "9e55e84b-cf9d-4cc0-8fad-09ebeac2a150",
   "metadata": {},
   "outputs": [
    {
     "name": "stdin",
     "output_type": "stream",
     "text": [
      "enter number A:  36\n"
     ]
    }
   ],
   "source": [
    "A = int(input(\"enter number A: \"))"
   ]
  },
  {
   "cell_type": "code",
   "execution_count": 4,
   "id": "21f3bc72-30cf-4ea2-b8c4-374a81da3210",
   "metadata": {},
   "outputs": [
    {
     "name": "stdin",
     "output_type": "stream",
     "text": [
      "enter number B:  6\n"
     ]
    }
   ],
   "source": [
    "B = int(input(\"enter number B: \"))"
   ]
  },
  {
   "cell_type": "code",
   "execution_count": 6,
   "id": "08d89687-404b-4908-b315-b34166051576",
   "metadata": {},
   "outputs": [],
   "source": [
    "count =0"
   ]
  },
  {
   "cell_type": "code",
   "execution_count": 7,
   "id": "10d860cd-8aaf-4241-9187-694c078bc747",
   "metadata": {},
   "outputs": [
    {
     "name": "stdout",
     "output_type": "stream",
     "text": [
      "A is divisible by B1times\n",
      "A is divisible by B2times\n"
     ]
    }
   ],
   "source": [
    "if A%B ==0:\n",
    "    while A%B ==0:\n",
    "        A=A/B\n",
    "        count +=1\n",
    "        print(\"A is divisible by B{}times\".format(count))\n",
    "else:\n",
    "        print(\"A is not divisible by B\")                    "
   ]
  },
  {
   "cell_type": "code",
   "execution_count": 8,
   "id": "96c3509a-20ea-48be-ba49-dbfec810ed7c",
   "metadata": {},
   "outputs": [],
   "source": [
    "# QUESTION NO 6"
   ]
  },
  {
   "cell_type": "code",
   "execution_count": 24,
   "id": "6819bfe8-969c-440c-b10e-0b7737b953e0",
   "metadata": {},
   "outputs": [
    {
     "name": "stdout",
     "output_type": "stream",
     "text": [
      "72 is divisible by 3\n",
      "98 is not divisible by 3\n",
      "53 is not divisible by 3\n",
      "73 is not divisible by 3\n",
      "5 is not divisible by 3\n",
      "12 is divisible by 3\n",
      "6 is divisible by 3\n",
      "59 is not divisible by 3\n",
      "85 is not divisible by 3\n",
      "48 is divisible by 3\n",
      "67 is not divisible by 3\n",
      "57 is divisible by 3\n",
      "43 is not divisible by 3\n",
      "91 is not divisible by 3\n",
      "73 is not divisible by 3\n",
      "9 is divisible by 3\n",
      "50 is not divisible by 3\n",
      "31 is not divisible by 3\n",
      "13 is not divisible by 3\n",
      "84 is divisible by 3\n",
      "91 is not divisible by 3\n",
      "72 is divisible by 3\n",
      "78 is divisible by 3\n",
      "36 is divisible by 3\n",
      "61 is not divisible by 3\n"
     ]
    }
   ],
   "source": [
    "import random\n",
    "\n",
    "numbers = []\n",
    "\n",
    "for _ in range(25):\n",
    "    numbers.append(random.randint(1, 100))\n",
    "\n",
    "for number in numbers:\n",
    "    if number % 3 == 0:\n",
    "        print(f\"{number} is divisible by 3\")\n",
    "    else:\n",
    "        print(f\"{number} is not divisible by 3\")\n"
   ]
  },
  {
   "cell_type": "code",
   "execution_count": 25,
   "id": "8eea0c1c-9d4b-4930-9804-cac6caf88664",
   "metadata": {},
   "outputs": [],
   "source": [
    "# question7"
   ]
  },
  {
   "cell_type": "code",
   "execution_count": 28,
   "id": "0baaef32-7362-464c-834d-ee0f9a0d9904",
   "metadata": {},
   "outputs": [],
   "source": [
    "# mutable data types can be changed or modified once created. for eg;"
   ]
  },
  {
   "cell_type": "code",
   "execution_count": 30,
   "id": "283c12d1-ae35-457f-9c29-369dea4c7266",
   "metadata": {},
   "outputs": [
    {
     "name": "stdout",
     "output_type": "stream",
     "text": [
      "[1, 2, 3]\n",
      "[4, 2, 3]\n"
     ]
    }
   ],
   "source": [
    "list = [1, 2, 3]\n",
    "print(list) \n",
    "\n",
    "# Modifying the list\n",
    "list[0] = 4\n",
    "print(list)\n"
   ]
  },
  {
   "cell_type": "code",
   "execution_count": 31,
   "id": "e25e5f3d-663d-45bf-88a3-933e41ddf0b4",
   "metadata": {},
   "outputs": [],
   "source": [
    "# immutable data types are the data types which cannot be changed or modified once created.. for eg:"
   ]
  },
  {
   "cell_type": "code",
   "execution_count": 32,
   "id": "9799b2df-f431-4964-aa7f-568e148822fd",
   "metadata": {},
   "outputs": [
    {
     "name": "stdout",
     "output_type": "stream",
     "text": [
      "Hello\n"
     ]
    },
    {
     "ename": "TypeError",
     "evalue": "'str' object does not support item assignment",
     "output_type": "error",
     "traceback": [
      "\u001b[0;31m---------------------------------------------------------------------------\u001b[0m",
      "\u001b[0;31mTypeError\u001b[0m                                 Traceback (most recent call last)",
      "Cell \u001b[0;32mIn[32], line 5\u001b[0m\n\u001b[1;32m      2\u001b[0m \u001b[38;5;28mprint\u001b[39m(string)  \n\u001b[1;32m      4\u001b[0m \u001b[38;5;66;03m# Attempting to modify the string\u001b[39;00m\n\u001b[0;32m----> 5\u001b[0m \u001b[43mstring\u001b[49m\u001b[43m[\u001b[49m\u001b[38;5;241;43m0\u001b[39;49m\u001b[43m]\u001b[49m \u001b[38;5;241m=\u001b[39m \u001b[38;5;124m'\u001b[39m\u001b[38;5;124mM\u001b[39m\u001b[38;5;124m'\u001b[39m \n",
      "\u001b[0;31mTypeError\u001b[0m: 'str' object does not support item assignment"
     ]
    }
   ],
   "source": [
    "string = \"Hello\"\n",
    "print(string)  \n",
    "\n",
    "# Attempting to modify the string\n",
    "string[0] = 'M' \n"
   ]
  },
  {
   "cell_type": "code",
   "execution_count": 33,
   "id": "9789fa60-dfcd-4596-96a1-422e6ba674c3",
   "metadata": {},
   "outputs": [],
   "source": [
    "# question no 4"
   ]
  },
  {
   "cell_type": "code",
   "execution_count": 34,
   "id": "045cc4a9-510a-4f65-b5ed-17531f713550",
   "metadata": {},
   "outputs": [
    {
     "name": "stdout",
     "output_type": "stream",
     "text": [
      "10\n",
      "<class 'int'>\n",
      "Hello\n",
      "<class 'str'>\n",
      "3.14\n",
      "<class 'float'>\n",
      "True\n",
      "<class 'bool'>\n",
      "[1, 2, 3]\n",
      "<class 'list'>\n",
      "{'key': 'value'}\n",
      "<class 'dict'>\n",
      "(4, 5, 6)\n",
      "<class 'tuple'>\n",
      "None\n",
      "<class 'NoneType'>\n",
      "a\n",
      "<class 'str'>\n",
      "{'z', 'y', 'x'}\n",
      "<class 'set'>\n"
     ]
    }
   ],
   "source": [
    "data_list = [10, \"Hello\", 3.14, True, [1, 2, 3], {\"key\": \"value\"}, (4, 5, 6), None, 'a', {'x', 'y', 'z'}]\n",
    "\n",
    "for element in data_list:\n",
    "    print(element) \n",
    "    print(type(element))\n"
   ]
  },
  {
   "cell_type": "code",
   "execution_count": null,
   "id": "399bc0c2-4e44-488f-8aa0-32342e37f68b",
   "metadata": {},
   "outputs": [],
   "source": []
  }
 ],
 "metadata": {
  "kernelspec": {
   "display_name": "Python 3 (ipykernel)",
   "language": "python",
   "name": "python3"
  },
  "language_info": {
   "codemirror_mode": {
    "name": "ipython",
    "version": 3
   },
   "file_extension": ".py",
   "mimetype": "text/x-python",
   "name": "python",
   "nbconvert_exporter": "python",
   "pygments_lexer": "ipython3",
   "version": "3.10.8"
  }
 },
 "nbformat": 4,
 "nbformat_minor": 5
}
